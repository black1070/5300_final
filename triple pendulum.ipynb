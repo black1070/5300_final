{
 "cells": [
  {
   "cell_type": "code",
   "execution_count": 2,
   "id": "9938e267",
   "metadata": {},
   "outputs": [],
   "source": [
    "import numpy as np\n",
    "import sympy as smp\n",
    "from scipy.integrate import odeint\n",
    "import matplotlib.pyplot as plt\n",
    "from matplotlib import animation\n",
    "\n",
    "pi = np.pi"
   ]
  },
  {
   "cell_type": "markdown",
   "id": "c7a7e1a6",
   "metadata": {},
   "source": [
    "This extends the double pedulum to a triple pendulum and animates it. First, we will set up some basic values and functions"
   ]
  },
  {
   "cell_type": "code",
   "execution_count": 3,
   "id": "8836835a",
   "metadata": {},
   "outputs": [],
   "source": [
    "#defines values\n",
    "t, g = smp.symbols('t, g')\n",
    "m1, m2, m3 = smp.symbols('m1, m2, m3')\n",
    "L1, L2, L3 = smp.symbols('L1, L2, L3')\n",
    "\n",
    "phi1, phi2, phi3 = smp.symbols(r'\\phi_1, \\phi_2, \\phi_3', cls=smp.Function)\n",
    "\n",
    "\n",
    "#makes angle a function of time\n",
    "phi1 = phi1(t)\n",
    "phi2 = phi2(t)\n",
    "phi3 = phi3(t)\n",
    "\n",
    "\n",
    "#sets first and second derivatives for angle\n",
    "d_phi1 = smp.diff(phi1, t)\n",
    "d_phi2 = smp.diff(phi2, t)\n",
    "d_phi3 = smp.diff(phi3, t)\n",
    "dd_phi1 = smp.diff(d_phi1, t)\n",
    "dd_phi2 = smp.diff(d_phi2, t)\n",
    "dd_phi3 = smp.diff(d_phi3, t)\n",
    "\n",
    "\n",
    "#converts to cartesian coordinates\n",
    "x1 = L1*smp.sin(phi1)\n",
    "y1 = -L1*smp.cos(phi1)\n",
    "\n",
    "x2 = L1*smp.sin(phi1) + L2*smp.sin(phi2)\n",
    "y2 = -L1*smp.cos(phi1) - L2*smp.cos(phi2)\n",
    "\n",
    "x3 = L1*smp.sin(phi1) + L2*smp.sin(phi2) + L3*smp.sin(phi3)\n",
    "y3 = -L1*smp.cos(phi1) - L2*smp.cos(phi2) - L3*smp.cos(phi3)"
   ]
  },
  {
   "cell_type": "markdown",
   "id": "682af2de",
   "metadata": {},
   "source": [
    "To avoid doing a ton of heavy algebra and risking errors, we will run the lagrangian mechanical equations of motion inside of python. Then we can solve the resulting differential equations like with the double pendulum."
   ]
  },
  {
   "cell_type": "code",
   "execution_count": 4,
   "id": "0ec01b42",
   "metadata": {},
   "outputs": [],
   "source": [
    "#kinetic energy\n",
    "T1 = 1/2 * m1 * ( smp.diff(x1, t)**2 + smp.diff(y1, t)**2 )\n",
    "T2 = 1/2 * m2 * ( smp.diff(x2, t)**2 + smp.diff(y2, t)**2 )\n",
    "T3 = 1/2 * m3 * ( smp.diff(x3, t)**2 + smp.diff(y3, t)**2 )\n",
    "T = T1+T2+T3\n",
    "\n",
    "#potental energy\n",
    "U1 = m1*g*y1\n",
    "U2 = m2*g*y2\n",
    "U3 = m3*g*y3\n",
    "U = U1+U2+U3\n",
    "\n",
    "#Lagrangian\n",
    "L = T - U"
   ]
  },
  {
   "cell_type": "code",
   "execution_count": 5,
   "id": "abc297d5",
   "metadata": {},
   "outputs": [],
   "source": [
    "#Plugging into the Euler-Lagrange equations. From here we solve the differential equations\n",
    "ELE1 = smp.diff(L, phi1) - smp.diff(smp.diff(L, d_phi1), t).simplify()\n",
    "ELE2 = smp.diff(L, phi2) - smp.diff(smp.diff(L, d_phi2), t).simplify()\n",
    "ELE3 = smp.diff(L, phi3) - smp.diff(smp.diff(L, d_phi3), t).simplify()"
   ]
  },
  {
   "cell_type": "code",
   "execution_count": 6,
   "id": "69aa5ad8",
   "metadata": {},
   "outputs": [],
   "source": [
    "#this may take several minutes or longer to run, depending on your computer\n",
    "sol = smp.solve([ELE1, ELE2, ELE3], (dd_phi1, dd_phi2, dd_phi3),\n",
    "                simplify=False, rational=True)"
   ]
  },
  {
   "cell_type": "code",
   "execution_count": 7,
   "id": "68d39247",
   "metadata": {},
   "outputs": [],
   "source": [
    "dz1dt_f = smp.lambdify((t, g, m1, m2, m3, L1, L2, L3, phi1, phi2, phi3, d_phi1, d_phi2, d_phi3), sol[dd_phi1])\n",
    "dz2dt_f = smp.lambdify((t, g, m1, m2, m3, L1, L2, L3, phi1, phi2, phi3, d_phi1, d_phi2, d_phi3), sol[dd_phi2])\n",
    "dz3dt_f = smp.lambdify((t, g, m1, m2, m3, L1, L2, L3, phi1, phi2, phi3, d_phi1, d_phi2, d_phi3), sol[dd_phi3])\n",
    "\n",
    "dphi1dt_f = smp.lambdify(d_phi1, d_phi1)\n",
    "dphi2dt_f = smp.lambdify(d_phi2, d_phi2)\n",
    "dphi3dt_f = smp.lambdify(d_phi3, d_phi3)"
   ]
  },
  {
   "cell_type": "code",
   "execution_count": 8,
   "id": "a56ae44c",
   "metadata": {},
   "outputs": [],
   "source": [
    "def dSdt(S, t, g, m1, m2, m3, L1, L2, L3):\n",
    "    phi1, z1, phi2, z2, phi3, z3 = S\n",
    "    return [\n",
    "        dphi1dt_f(z1),\n",
    "        dz1dt_f(t, g, m1, m2, m3, L1, L2, L3, phi1, phi2, phi3, z1, z2, z3),\n",
    "        \n",
    "        dphi2dt_f(z2),\n",
    "        dz2dt_f(t, g, m1, m2, m3, L1, L2, L3, phi1, phi2, phi3, z1, z2, z3),\n",
    "        \n",
    "        dphi3dt_f(z3),\n",
    "        dz3dt_f(t, g, m1, m2, m3, L1, L2, L3, phi1, phi2, phi3, z1, z2, z3)\n",
    "    ]"
   ]
  },
  {
   "cell_type": "code",
   "execution_count": 9,
   "id": "462bfdf9",
   "metadata": {},
   "outputs": [],
   "source": [
    "#initial conditions start completely horizontal and at rest, like with the double pendulum. All masses/lengths are 1\n",
    "g = 9.8\n",
    "m1 = 1\n",
    "m2 = 1\n",
    "m3 = 1\n",
    "L1 = 1\n",
    "L2 = 1\n",
    "L3 = 1\n",
    "\n",
    "t = np.linspace(0, 50, 1001)\n",
    "S0 = (pi/2, 0, pi/2, 0, pi/2, 0)\n",
    "\n",
    "#initial conditions start completely horizontal and at rest, like with the double pendulum\n",
    "solution = odeint(dSdt, y0=S0, t=t, args=(g, m1, m2, m3, L1, L2, L3))"
   ]
  },
  {
   "cell_type": "code",
   "execution_count": null,
   "id": "fa281d14",
   "metadata": {},
   "outputs": [],
   "source": []
  },
  {
   "cell_type": "code",
   "execution_count": 10,
   "id": "7122b59e",
   "metadata": {},
   "outputs": [],
   "source": [
    "phi1 = solution.T[0]\n",
    "phi2 = solution.T[2]\n",
    "phi3 = solution.T[4]\n",
    "\n",
    "def getxy(t, phi1, phi2, phi3, L1, L2, L3):\n",
    "    return ( L1*np.sin(phi1), -L1*np.cos(phi1),\n",
    "        L1*np.sin(phi1) + L2*np.sin(phi2), -L1*np.cos(phi1) - L2*np.cos(phi2),\n",
    "        L1*np.sin(phi1) + L2*np.sin(phi2) + L3*np.sin(phi3), -L1*np.cos(phi1) - L2*np.cos(phi2) - L3*np.cos(phi3)\n",
    "           )\n",
    "\n",
    "x1, y1, x2, y2, x3, y3 = getxy(t, phi1, phi2, phi3, L1, L2, L3)"
   ]
  },
  {
   "cell_type": "markdown",
   "id": "6a57eac6",
   "metadata": {},
   "source": [
    "We now have everything we need to set up an animation of the triple pendulum"
   ]
  },
  {
   "cell_type": "code",
   "execution_count": 11,
   "id": "dda99adc",
   "metadata": {},
   "outputs": [
    {
     "data": {
      "image/png": "[encoded data removed]",
      "text/plain": [
       "<Figure size 576x576 with 1 Axes>"
      ]
     },
     "metadata": {},
     "output_type": "display_data"
    }
   ],
   "source": [
    "def animate(i):\n",
    "    ln1.set_data( [0, x1[i], x2[i], x3[i]], [0, y1[i], y2[i], y3[i]] )\n",
    "\n",
    "fig, ax = plt.subplots(1, 1, figsize=(8, 8))\n",
    "ax.set_facecolor('black')\n",
    "ax.get_xaxis().set_ticks([])\n",
    "ax.get_yaxis().set_ticks([])\n",
    "ln1, = plt.plot([], [], 'ro--', lw=3, markersize=8)\n",
    "ax.set_ylim(-4, 4)\n",
    "ax.set_xlim(-4, 4)\n",
    "ani = animation.FuncAnimation(fig, animate, frames=1000, interval=50)\n",
    "ani.save('tripend.gif', writer='pillow', fps=20)"
   ]
  },
  {
   "cell_type": "code",
   "execution_count": null,
   "id": "a299cb74",
   "metadata": {},
   "outputs": [],
   "source": []
  }
 ],
 "metadata": {
  "kernelspec": {
   "display_name": "Python 3 (ipykernel)",
   "language": "python",
   "name": "python3"
  },
  "language_info": {
   "codemirror_mode": {
    "name": "ipython",
    "version": 3
   },
   "file_extension": ".py",
   "mimetype": "text/x-python",
   "name": "python",
   "nbconvert_exporter": "python",
   "pygments_lexer": "ipython3",
   "version": "3.9.7"
  }
 },
 "nbformat": 4,
 "nbformat_minor": 5
}
